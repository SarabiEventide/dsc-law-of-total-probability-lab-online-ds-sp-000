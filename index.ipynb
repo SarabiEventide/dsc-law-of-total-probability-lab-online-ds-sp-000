{
 "cells": [
  {
   "cell_type": "markdown",
   "metadata": {},
   "source": [
    "# Partitioning and Law of Total Probability - Lab\n",
    "\n",
    "## Introduction \n",
    "In this lab, you'll practice your knowledge of the law of total probability. In probability theory, the law (or formula) of total probability is a fundamental rule relating **marginal probabilities** to **conditional probabilities**.\n",
    "\n",
    "## Objectives\n",
    "\n",
    "You will be able to:\n",
    "* Understand and explain the concept of event space and partitioning \n",
    "* State the law of total probabilities based on a partitioned event space\n",
    "* Understand and be able to perform partitioning based on known and unknown probabilities to solve a problem"
   ]
  },
  {
   "cell_type": "markdown",
   "metadata": {},
   "source": [
    "## Exercise 1\n",
    "Imagine you have two hats: one has 4 red balls and 6 green balls, the other has 6 red and 4 green. We toss a fair coin, if heads, you will pick a random ball from the first hat, if tails you will pick one from the second hat. \n",
    "\n",
    "What is the probability of getting a red ball?"
   ]
  },
  {
   "cell_type": "code",
   "execution_count": 1,
   "metadata": {},
   "outputs": [
    {
     "data": {
      "text/plain": [
       "0.5"
      ]
     },
     "execution_count": 1,
     "metadata": {},
     "output_type": "execute_result"
    }
   ],
   "source": [
    "# Your code here\n",
    "#Event A\n",
    "P_H = 1/2\n",
    "P_T = 1/2\n",
    "\n",
    "#Event B, hat 1\n",
    "P_R1= 4/10\n",
    "P_G1 = 6/10\n",
    "\n",
    "#Event B, hat 2\n",
    "P_R2 = 6/10\n",
    "P_G2 = 4/10\n",
    "\n",
    "#P(Red) = P(Red|H)*P(H) + P(Red | T)*P(T)\n",
    "P_Red = (P_R1*P_H) + (P_R2*P_T)\n",
    "P_Red"
   ]
  },
  {
   "cell_type": "markdown",
   "metadata": {},
   "source": [
    "## Exercise 2\n",
    "A soccer team wins 60% of its games when it scores the first goal, and 10% of its games when the opposing team \n",
    "scores first. \n",
    "\n",
    "If the team scores the first goal about 30% of the time, what fraction of the games does it win?"
   ]
  },
  {
   "cell_type": "code",
   "execution_count": 2,
   "metadata": {},
   "outputs": [
    {
     "data": {
      "text/plain": [
       "0.25"
      ]
     },
     "execution_count": 2,
     "metadata": {},
     "output_type": "execute_result"
    }
   ],
   "source": [
    "# Your code here\n",
    "P_G1 = 3/10  #prob of getting first goal\n",
    "P_G2 = 7/10 #prob of getting second goal\n",
    "\n",
    "P_WG1 = 6/10 #prob of winning given first goal\n",
    "P_WG2 = 1/10 #prob of winning given second goal\n",
    "\n",
    "P_Win = (P_WG1*P_G1) + (P_WG2* P_G2)\n",
    "P_Win\n"
   ]
  },
  {
   "cell_type": "markdown",
   "metadata": {},
   "source": [
    "## Exercise 3"
   ]
  },
  {
   "cell_type": "markdown",
   "metadata": {},
   "source": [
    "In Europe, except for regular gas, cars regularly run on Diesel as well. At a gas station in Paris; \n",
    "\n",
    "\n",
    "* 40% of the customers fills up with Diesel (event G1) \n",
    "* 35% with gas \"Super 95\" (event G2)\n",
    "* 25% with gas \"Super 98\" (event G3). \n",
    "\n",
    "\n",
    "* 30% of the customers who buy Diesel fill their tank completely (event F). \n",
    "* For \"Super 95\" and \"Super 98\", these numbers are  60% and 50% respectively.\n",
    "\n",
    "\n",
    "- Compute the probability that the next customer completely fills their tank and buys Super 95. \n",
    "- Compute the probability that the next customer completely fills their tank\n",
    "- Given that the next customer fills their tank completely, compute the probability that they bought Diesel. \n",
    "\n",
    "Hint: Consult the theorems for conditional probability, check for dependence or independence of events"
   ]
  },
  {
   "cell_type": "code",
   "execution_count": 4,
   "metadata": {},
   "outputs": [
    {
     "name": "stdout",
     "output_type": "stream",
     "text": [
      "0.21\n",
      "0.45499999999999996\n",
      "0.26373626373626374\n"
     ]
    }
   ],
   "source": [
    "# Your code here\n",
    "P_G1 = 4/10 #diesel\n",
    "P_G2 = 3.5 / 10 #super 95\n",
    "P_G3 = 2.5/10 #super 98\n",
    "\n",
    "P_F1 = 3/10 #prob of filling tank given diesel \n",
    "P_F2 = 6/10 #filling tank given super 95\n",
    "P_F3 = 5/10 #fil tank given super 98\n",
    "\n",
    "P_Full95 = P_G2*P_F2\n",
    "P_Full98 = P_G3*P_F3\n",
    "P_FullDZ = P_G1*P_F1\n",
    "\n",
    "P_Full = P_Full95+P_Full98+P_FullDZ\n",
    "P_DZ_given_Full = (P_G1*P_F1)/ P_Full\n",
    "\n",
    "print(P_Full95)\n",
    "print(P_Full)\n",
    "print(P_DZ_given_Full)"
   ]
  },
  {
   "cell_type": "markdown",
   "metadata": {},
   "source": [
    "## Exercise 4"
   ]
  },
  {
   "cell_type": "markdown",
   "metadata": {},
   "source": [
    "United airlines operates flights from JFK to Amsterdam, to Brussels and to Copenhagen. As you may know, flights are overbooked fairly often. Let's denote the probability of the flight to Amsterdam being overbooked equal to 40%, the probability of the flight to Brussels being overbooked equal to 25%, and the probability of the flight to Copenhagen to be overbooked being equal to 35%. You can assume that these events of overbooking are independent events."
   ]
  },
  {
   "cell_type": "markdown",
   "metadata": {},
   "source": [
    "- Compute the probability that all the flights are overbooked.\n",
    "- Compute the probability of having at least one flight which is not overbooked.\n",
    "- Compute the probability that exactly one flight is overbooked."
   ]
  },
  {
   "cell_type": "code",
   "execution_count": 5,
   "metadata": {},
   "outputs": [
    {
     "name": "stdout",
     "output_type": "stream",
     "text": [
      "0.034999999999999996\n",
      "0.965\n",
      "0.45000000000000007\n"
     ]
    }
   ],
   "source": [
    "# Your code here\n",
    "P_OBK_AM = 4/10\n",
    "P_OBK_BR = 2.5 / 10\n",
    "P_OBK_CO = 3.5/10\n",
    "\n",
    "P_OBK = P_OBK_AM*P_OBK_BR*P_OBK_CO\n",
    "print(P_OBK)\n",
    "P_OneGood = 1 - P_OBK\n",
    "print(P_OneGood)\n",
    "\n",
    "P_OneAM = P_OBK_AM*(1 - P_OBK_BR)*(1-P_OBK_CO)\n",
    "P_OneBR = P_OBK_BR*(1- P_OBK_AM)*(1-P_OBK_CO)\n",
    "P_OneCO= P_OBK_CO*(1-P_OBK_AM)*(1-P_OBK_BR\n",
    "                               )\n",
    "\n",
    "P_OneOBK = P_OneAM + P_OneBR + P_OneCO\n",
    "print(P_OneOBK)\n",
    "\n"
   ]
  },
  {
   "cell_type": "markdown",
   "metadata": {},
   "source": [
    "## Exercise 5\n",
    "You have three bags that each contain 100 marbles:\n",
    "\n",
    "- Bag 1 has 75 red and 25 blue marbles;\n",
    "- Bag 2 has 60 red and 40 blue marbles;\n",
    "- Bag 3 has 45 red and 55 blue marbles.\n",
    "\n",
    "You choose one of the bags at random and then pick a marble from the chosen bag, also at random. \n",
    "\n",
    "What is the probability that the chosen marble is red?\n"
   ]
  },
  {
   "cell_type": "code",
   "execution_count": 6,
   "metadata": {},
   "outputs": [
    {
     "data": {
      "text/plain": [
       "0.6"
      ]
     },
     "execution_count": 6,
     "metadata": {},
     "output_type": "execute_result"
    }
   ],
   "source": [
    "# Your code here\n",
    "P_B1 = 1/3\n",
    "P_B2 = 1/3\n",
    "P_B3 = 1/3\n",
    "\n",
    "PR_given_B1 = 75/100\n",
    "PR_given_B2 = 60/100\n",
    "PR_given_B3 = 45/100\n",
    "\n",
    "PR = (PR_given_B1*P_B1) + (PR_given_B2*P_B2) + (PR_given_B3*P_B3)\n",
    "PR\n"
   ]
  },
  {
   "cell_type": "markdown",
   "metadata": {},
   "source": [
    "## Summary \n",
    "\n",
    "In this lab you practiced conditional probability and its theorem with some simple problems. The key takeaway from this lab is to to be able to identify random events as dependent or independent and calculating the probability of their occurrence using appropriate methods. Next, you'll take this knowledge a step further and run simulations with conditional and total probability. "
   ]
  }
 ],
 "metadata": {
  "kernelspec": {
   "display_name": "Python 3",
   "language": "python",
   "name": "python3"
  },
  "language_info": {
   "codemirror_mode": {
    "name": "ipython",
    "version": 3
   },
   "file_extension": ".py",
   "mimetype": "text/x-python",
   "name": "python",
   "nbconvert_exporter": "python",
   "pygments_lexer": "ipython3",
   "version": "3.7.0"
  }
 },
 "nbformat": 4,
 "nbformat_minor": 2
}
